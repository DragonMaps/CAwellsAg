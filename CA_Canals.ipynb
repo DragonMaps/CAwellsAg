{
 "cells": [
  {
   "cell_type": "code",
   "execution_count": null,
   "id": "6114ac36",
   "metadata": {},
   "outputs": [],
   "source": [
    "#Load a bunch of modules\n",
    "\n",
    "import numpy as np\n",
    "import pandas as pd\n",
    "import geopandas as gpd\n",
    "import streamlit as st\n",
    "import folium as fl\n",
    "from folium.plugins import FastMarkerCluster,MarkerCluster,MiniMap,HeatMap\n",
    "import streamlit_folium as sf\n",
    "import branca.colormap as cm\n",
    "import os as os\n",
    "#import wget\n",
    "import tarfile\n",
    "import datetime as dt\n",
    "import matplotlib.pyplot as plt\n",
    "#import Iframe\n",
    "import base64\n",
    "import re\n",
    "\n",
    "print('loaded 9 modules')"
   ]
  },
  {
   "cell_type": "code",
   "execution_count": null,
   "id": "19cce34e",
   "metadata": {},
   "outputs": [],
   "source": [
    " #Make sure we're in the correct direcotyr\n",
    "\n",
    "os.chdir('/Users/arbetter/Coding/Streamlit/CAwellsAg')"
   ]
  },
  {
   "cell_type": "code",
   "execution_count": null,
   "id": "5ce86bf9",
   "metadata": {},
   "outputs": [],
   "source": [
    "pd.options.display.max_columns=None\n",
    "pd.options.display.max_rows=None\n",
    "\n",
    "#streamlit message size\n",
    "MESSAGE_SIZE_LIMIT = 1000.*int(1e6) #1000 MB"
   ]
  },
  {
   "cell_type": "code",
   "execution_count": null,
   "id": "e5e6604f",
   "metadata": {},
   "outputs": [],
   "source": [
    "wells_gdf = gpd.read_file('AllWells_gis/Wells_All.shp')\n",
    "\n",
    "wells_gdf['Wells']=1\n",
    "\n",
    "print(wells_gdf.crs)\n"
   ]
  },
  {
   "cell_type": "code",
   "execution_count": null,
   "id": "71d987a8",
   "metadata": {},
   "outputs": [],
   "source": [
    "len(wells_gdf)"
   ]
  },
  {
   "cell_type": "code",
   "execution_count": null,
   "id": "c19d2117",
   "metadata": {},
   "outputs": [],
   "source": [
    "wells_gdf.to_crs('EPSG:4269',inplace=True)\n",
    "\n",
    "wells_gdf.crs"
   ]
  },
  {
   "cell_type": "code",
   "execution_count": null,
   "id": "8e4426d6",
   "metadata": {
    "scrolled": true
   },
   "outputs": [],
   "source": [
    "countywells_df = wells_gdf.groupby('CountyName').sum()\n",
    "\n",
    "countywells_df"
   ]
  },
  {
   "cell_type": "code",
   "execution_count": null,
   "id": "830d628b",
   "metadata": {},
   "outputs": [],
   "source": [
    "# Read in California counties\n",
    "\n",
    "ca_counties_gdf = gpd.read_file(\"geodata/california_counties/CaliforniaCounties.shp\")\n",
    "\n",
    "ca_counties_gdf.fillna(0,inplace=True)\n",
    "\n",
    "ca_counties_gdf['Wells']=0\n",
    "\n",
    "ca_counties_gdf.crs\n",
    "\n"
   ]
  },
  {
   "cell_type": "code",
   "execution_count": null,
   "id": "82c09fee",
   "metadata": {},
   "outputs": [],
   "source": [
    "ca_counties_gdf.to_crs('EPSG:4269',inplace=True)"
   ]
  },
  {
   "cell_type": "code",
   "execution_count": null,
   "id": "7a236e72",
   "metadata": {},
   "outputs": [],
   "source": [
    "for county_loc in countywells_df.index:\n",
    "    c1 = county_loc\n",
    "#    print(county_loc,c1)\n",
    "\n",
    "    # add Offshore wells to their respective counties\n",
    "    c2 = c1.replace(\"  \",\" \")\n",
    "    c3 = c2.replace(\"Offshore\",\"\").strip()\n",
    "    \n",
    "    # same with Island, except Santa Cruz Island is in Santa Barbara County\n",
    "    if (c3 == 'Santa Cruz Island'):\n",
    "        c = 'Santa Barbara'\n",
    "    else:\n",
    "        c = c3.replace(\"Island\",\"\").strip()\n",
    "    \n",
    "#    print(c1,c2,c3,c)\n",
    "\n",
    "# put islands back in their counties\n",
    "    if (c == 'San Miguel'):\n",
    "        c = 'Santa Barbara'\n",
    "    elif (c == \"San Nicolas\"):\n",
    "        c = 'Ventura'\n",
    "    elif (c == 'Santa Rosa'):\n",
    "        c = 'Santa Barbara'\n",
    "    \n",
    "    print(county_loc,c)\n",
    "    \n",
    "    try:\n",
    "        icounty = ca_counties_gdf[ca_counties_gdf['NAME']==c].index[0]\n",
    "        ca_counties_gdf.at[icounty,'Wells']=countywells_df.at[c,'Wells']+ca_counties_gdf.at[icounty,'Wells']\n",
    "    except:\n",
    "        print(c,'not found')\n",
    "        \n",
    "        \n"
   ]
  },
  {
   "cell_type": "code",
   "execution_count": null,
   "id": "530f7efd",
   "metadata": {},
   "outputs": [],
   "source": [
    "ca_counties_gdf = ca_counties_gdf[['NAME','Wells','STATE_NAME','POP2010','POP10_SQMI','SQMI','CountyFIPS','geometry']]\n",
    "\n",
    "ca_counties_gdf.head()"
   ]
  },
  {
   "cell_type": "code",
   "execution_count": null,
   "id": "b22b84f9",
   "metadata": {},
   "outputs": [],
   "source": [
    "ca_counties_gdf.crs"
   ]
  },
  {
   "cell_type": "code",
   "execution_count": null,
   "id": "5420fad8",
   "metadata": {
    "scrolled": false
   },
   "outputs": [],
   "source": [
    "fields_gdf = gpd.read_file('Field_Boundary/Field_Boundary.shp')\n",
    "\n",
    "fields_gdf.crs"
   ]
  },
  {
   "cell_type": "code",
   "execution_count": null,
   "id": "44eb4249",
   "metadata": {},
   "outputs": [],
   "source": [
    "fields_gdf.to_crs('EPSG:4269',inplace=True)\n",
    "\n",
    "print(fields_gdf.crs)"
   ]
  },
  {
   "cell_type": "code",
   "execution_count": null,
   "id": "954dffda",
   "metadata": {},
   "outputs": [],
   "source": [
    "fields_gdf.head()"
   ]
  },
  {
   "cell_type": "code",
   "execution_count": null,
   "id": "0cf91b3d",
   "metadata": {},
   "outputs": [],
   "source": [
    "facilities_gdf = gpd.read_file('FacilityBoundary/FacilityBoundary_20200529.shp')\n",
    "\n",
    "facilities_gdf.crs\n",
    "\n"
   ]
  },
  {
   "cell_type": "code",
   "execution_count": null,
   "id": "f2230733",
   "metadata": {},
   "outputs": [],
   "source": [
    "facilities_gdf.to_crs('EPSG:4269',inplace=True)\n",
    "\n",
    "facilities_gdf.crs"
   ]
  },
  {
   "cell_type": "code",
   "execution_count": null,
   "id": "9d22b294",
   "metadata": {
    "scrolled": true
   },
   "outputs": [],
   "source": [
    "facilities_gdf.head()"
   ]
  },
  {
   "cell_type": "code",
   "execution_count": null,
   "id": "f8462b26",
   "metadata": {},
   "outputs": [],
   "source": [
    "socal_counties_gdf = gpd.GeoDataFrame(columns = ca_counties_gdf.columns)\n",
    "\n",
    "socal_counties_gdf.crs"
   ]
  },
  {
   "cell_type": "code",
   "execution_count": null,
   "id": "e0f3cd00",
   "metadata": {},
   "outputs": [],
   "source": [
    "socal_counties = ['San Luis Obispo','Santa Barbara','Kern','Ventura','Los Angeles','Orange','San Bernardino',\n",
    "                   'Riverside','San Diego','Imperial']\n",
    "\n",
    "socal_counties = ['Kern']\n",
    "\n",
    "#socal_counties = ['Ventura']\n",
    "\n",
    "#socal_counties = ['Los Angeles']\n",
    "\n",
    "for county_loc in ca_counties_gdf['NAME']:\n",
    "\n",
    "    if (county_loc in socal_counties):\n",
    "#        entry = ca_counties_gdf.loc[ca_counties_gdf['NAME'] == county]\n",
    "#        print (entry)\n",
    "#        socal_counties_gdf = socal_counties_gdf.append(entry)\n",
    "        socal_counties_gdf = socal_counties_gdf.append(ca_counties_gdf.loc[ca_counties_gdf['NAME'] == county_loc])\n",
    "#    else:\n",
    "#        print('skipped',county)\n",
    "        \n",
    "socal_counties_gdf.plot()"
   ]
  },
  {
   "cell_type": "code",
   "execution_count": null,
   "id": "5d7fc2d1",
   "metadata": {},
   "outputs": [],
   "source": [
    "county_latlon = {}\n",
    "county_latlon['Kern'] = [35.34,-118.2]\n",
    "county_latlon['SoCal'] = [34.1, -117.3]\n",
    "county_latlon['Ventura'] = [34.27, -119.2]\n",
    "county_latlon['Los Angeles'] = [34,-118.25]\n",
    "\n",
    "county = socal_counties[0]\n",
    "\n",
    "county"
   ]
  },
  {
   "cell_type": "code",
   "execution_count": null,
   "id": "c02b4f6f",
   "metadata": {},
   "outputs": [],
   "source": [
    "socal_counties_gdf"
   ]
  },
  {
   "cell_type": "code",
   "execution_count": null,
   "id": "e33f7e5a",
   "metadata": {},
   "outputs": [],
   "source": [
    "print(socal_counties_gdf.crs)"
   ]
  },
  {
   "cell_type": "code",
   "execution_count": null,
   "id": "5d873d3e",
   "metadata": {},
   "outputs": [],
   "source": [
    "\n",
    "                           \n",
    "socal_counties_gdf.set_crs('EPSG:4269',inplace=True)\n",
    "\n",
    "socal_counties_gdf.crs\n"
   ]
  },
  {
   "cell_type": "code",
   "execution_count": null,
   "id": "b02e909a",
   "metadata": {},
   "outputs": [],
   "source": [
    "socal_counties_gdf"
   ]
  },
  {
   "cell_type": "code",
   "execution_count": null,
   "id": "e854288d",
   "metadata": {},
   "outputs": [],
   "source": [
    "fields_gdf = gpd.clip(fields_gdf,socal_counties_gdf,keep_geom_type=False)\n",
    "\n",
    "fields_gdf.head()"
   ]
  },
  {
   "cell_type": "code",
   "execution_count": null,
   "id": "343759d5",
   "metadata": {},
   "outputs": [],
   "source": [
    "fields_gdf.crs"
   ]
  },
  {
   "cell_type": "code",
   "execution_count": null,
   "id": "6a545228",
   "metadata": {},
   "outputs": [],
   "source": [
    "facilities_gdf = gpd.clip(facilities_gdf,socal_counties_gdf,keep_geom_type=True)\n",
    "\n",
    "facilities_gdf.head()"
   ]
  },
  {
   "cell_type": "code",
   "execution_count": null,
   "id": "b311803e",
   "metadata": {},
   "outputs": [],
   "source": [
    "facilities_gdf.crs"
   ]
  },
  {
   "cell_type": "code",
   "execution_count": null,
   "id": "d2f09c1a",
   "metadata": {},
   "outputs": [],
   "source": [
    "canals_gdf = gpd.read_file('Canals_and_Aqueducts_Local/Canals_and_Aqueducts_Local.shp')\n",
    "\n",
    "#canals_gdf.set_crs('EPSG:3310',inplace=True)\n",
    "\n",
    "\n",
    "canals_gdf.crs"
   ]
  },
  {
   "cell_type": "code",
   "execution_count": null,
   "id": "7f16e717",
   "metadata": {},
   "outputs": [],
   "source": [
    "\n",
    "canals_gdf.to_crs('EPSG:4269',inplace=True)\n",
    "\n",
    "canals_gdf.crs"
   ]
  },
  {
   "cell_type": "code",
   "execution_count": null,
   "id": "873b600d",
   "metadata": {},
   "outputs": [],
   "source": [
    "canals_gdf = gpd.clip(canals_gdf,socal_counties_gdf,keep_geom_type=True)\n",
    "\n",
    "canals_gdf.head()"
   ]
  },
  {
   "cell_type": "code",
   "execution_count": null,
   "id": "1306b663",
   "metadata": {},
   "outputs": [],
   "source": [
    "wells_gdf = gpd.clip(wells_gdf,socal_counties_gdf,keep_geom_type=True)\n",
    "\n",
    "len(wells_gdf)"
   ]
  },
  {
   "cell_type": "code",
   "execution_count": null,
   "id": "2b3ac55f",
   "metadata": {
    "scrolled": true
   },
   "outputs": [],
   "source": [
    "wells_gdf.reset_index(inplace=True)\n",
    "\n",
    "wells_gdf.head(10)"
   ]
  },
  {
   "cell_type": "code",
   "execution_count": null,
   "id": "659a7087",
   "metadata": {},
   "outputs": [],
   "source": [
    "# create latlon list for FastMarkerCluster\n",
    "\n",
    "wells_latlon = []\n",
    "\n",
    "for i in wells_gdf.index:\n",
    "    \n",
    "    latlon = []\n",
    "    latlon.append(wells_gdf.at[i,'Latitude'])\n",
    "    latlon.append(wells_gdf.at[i,'Longitude'])\n",
    "    wells_latlon.append(latlon)\n",
    "    \n",
    "    "
   ]
  },
  {
   "cell_type": "code",
   "execution_count": null,
   "id": "978e741d",
   "metadata": {},
   "outputs": [],
   "source": [
    "landuse_gdf = gpd.read_file('i15_crop_mapping_2018_shp/i15_Crop_Mapping_2018.shp')\n",
    "\n",
    "#landuse_gdf.fillna(0,inplace=True)\n",
    "\n",
    "landuse_gdf.crs\n",
    "\n"
   ]
  },
  {
   "cell_type": "code",
   "execution_count": null,
   "id": "156d409b",
   "metadata": {
    "scrolled": true
   },
   "outputs": [],
   "source": [
    "landuse_gdf['Crop'] = ''\n",
    "\n",
    "landuse_gdf['Use_Index'] = ''\n",
    "\n",
    "landuse_gdf = landuse_gdf[['UniqueID','SYMB_CLASS','MULTIUSE','SUBCLASS2','COUNTY','geometry','Crop','Use_Index']]\n",
    "\n",
    "#landuse_gdf = gpd.clip(landuse_gdf,socal_counties_gdf,keep_geom_type=True)\n",
    "\n",
    "# remove data that's not in SoCal; this is faster\n",
    "for county_loc in set(landuse_gdf['COUNTY']):\n",
    "\n",
    "    if county_loc not in socal_counties:\n",
    "        print('NoCal',county_loc)\n",
    "        landuse_gdf.drop(landuse_gdf.index[landuse_gdf['COUNTY'] == county_loc], inplace = True)\n",
    "    else:\n",
    "        print('SoCal',county_loc)\n",
    "\n",
    "landuse_gdf.head(10)"
   ]
  },
  {
   "cell_type": "code",
   "execution_count": null,
   "id": "c5ceeca5",
   "metadata": {},
   "outputs": [],
   "source": [
    "landuse_gdf.at[sorted(set(landuse_gdf[landuse_gdf['SYMB_CLASS']=='C'].index)),'Use_Index']= 0\n",
    "\n",
    "landuse_gdf.at[sorted(set(landuse_gdf[landuse_gdf['SYMB_CLASS']=='D'].index)),'Use_Index']= 1\n",
    "\n",
    "landuse_gdf.at[sorted(set(landuse_gdf[landuse_gdf['SYMB_CLASS']=='F'].index)),'Use_Index']= 2\n",
    "\n",
    "landuse_gdf.at[sorted(set(landuse_gdf[landuse_gdf['SYMB_CLASS']=='G'].index)),'Use_Index']= 3\n",
    "\n",
    "landuse_gdf.at[sorted(set(landuse_gdf[landuse_gdf['SYMB_CLASS']=='I'].index)),'Use_Index']= 4\n",
    "\n",
    "landuse_gdf.at[sorted(set(landuse_gdf[landuse_gdf['SYMB_CLASS']=='P'].index)),'Use_Index']= 5\n",
    "\n",
    "landuse_gdf.at[sorted(set(landuse_gdf[landuse_gdf['SYMB_CLASS']=='R'].index)),'Use_Index']= 6\n",
    "\n",
    "landuse_gdf.at[sorted(set(landuse_gdf[landuse_gdf['SYMB_CLASS']=='T'].index)),'Use_Index']= 7\n",
    "\n",
    "landuse_gdf.at[sorted(set(landuse_gdf[landuse_gdf['SYMB_CLASS']=='U'].index)),'Use_Index']= 8\n",
    "\n",
    "landuse_gdf.at[sorted(set(landuse_gdf[landuse_gdf['SYMB_CLASS']=='V'].index)),'Use_Index']= 9\n",
    "\n",
    "landuse_gdf.at[sorted(set(landuse_gdf[landuse_gdf['SYMB_CLASS']=='X'].index)),'Use_Index']= 10\n",
    "\n",
    "landuse_gdf.at[sorted(set(landuse_gdf[landuse_gdf['SYMB_CLASS']=='YP'].index)),'Use_Index']= 11\n",
    "\n"
   ]
  },
  {
   "cell_type": "code",
   "execution_count": null,
   "id": "0a60c901",
   "metadata": {},
   "outputs": [],
   "source": [
    "landuse_gdf.at[sorted(set(landuse_gdf[landuse_gdf['SYMB_CLASS']=='G'].index).intersection(landuse_gdf[landuse_gdf['SUBCLASS2']=='1'].index)),'Crop'] = 'Barley'\n",
    "\n",
    "landuse_gdf.at[sorted(set(landuse_gdf[landuse_gdf['SYMB_CLASS']=='G'].index).intersection(landuse_gdf[landuse_gdf['SUBCLASS2']=='2'].index)),'Crop'] = 'Wheat'\n",
    "\n",
    "landuse_gdf.at[sorted(set(landuse_gdf[landuse_gdf['SYMB_CLASS']=='G'].index).intersection(landuse_gdf[landuse_gdf['SUBCLASS2']=='3'].index)),'Crop'] = 'Oats'\n",
    "\n",
    "landuse_gdf.at[sorted(set(landuse_gdf[landuse_gdf['SYMB_CLASS']=='G'].index).intersection(landuse_gdf[landuse_gdf['SUBCLASS2']=='6'].index)),'Crop'] = 'Misc Grain & Hay'\n",
    "\n",
    "landuse_gdf.at[sorted(set(landuse_gdf[landuse_gdf['SYMB_CLASS']=='G'].index).intersection(landuse_gdf[landuse_gdf['SUBCLASS2']=='7'].index)),'Crop'] = 'Mixed Grain & Hay'\n",
    "\n",
    "landuse_gdf.at[sorted(set(landuse_gdf[landuse_gdf['SYMB_CLASS']=='G'].index).intersection(landuse_gdf[landuse_gdf['SUBCLASS2']=='**'].index)),'Crop'] = 'Grain & Hay Crops (not specified)'\n",
    "\n",
    "landuse_gdf.at[sorted(set(landuse_gdf[landuse_gdf['SYMB_CLASS']=='R'].index).intersection(landuse_gdf[landuse_gdf['SUBCLASS2']=='1'].index)),'Crop'] = 'Rice'\n",
    "\n",
    "landuse_gdf.at[sorted(set(landuse_gdf[landuse_gdf['SYMB_CLASS']=='R'].index).intersection(landuse_gdf[landuse_gdf['SUBCLASS2']=='2'].index)),'Crop'] = 'Wild Rice'\n",
    "\n",
    "landuse_gdf.at[sorted(set(landuse_gdf[landuse_gdf['SYMB_CLASS']=='R'].index).intersection(landuse_gdf[landuse_gdf['SUBCLASS2']=='**'].index)),'Crop'] = 'Rice (not specified)'\n",
    "\n",
    "landuse_gdf.at[sorted(set(landuse_gdf[landuse_gdf['SYMB_CLASS']=='F'].index).intersection(landuse_gdf[landuse_gdf['SUBCLASS2']=='1'].index)),'Crop'] = 'Cotton'\n",
    "\n",
    "landuse_gdf.at[sorted(set(landuse_gdf[landuse_gdf['SYMB_CLASS']=='F'].index).intersection(landuse_gdf[landuse_gdf['SUBCLASS2']=='2'].index)),'Crop'] = 'Safflower'\n",
    "\n",
    "landuse_gdf.at[sorted(set(landuse_gdf[landuse_gdf['SYMB_CLASS']=='F'].index).intersection(landuse_gdf[landuse_gdf['SUBCLASS2']=='3'].index)),'Crop'] = 'Flax'\n",
    "\n",
    "landuse_gdf.at[sorted(set(landuse_gdf[landuse_gdf['SYMB_CLASS']=='F'].index).intersection(landuse_gdf[landuse_gdf['SUBCLASS2']=='4'].index)),'Crop'] = 'Hops'\n",
    "\n",
    "landuse_gdf.at[sorted(set(landuse_gdf[landuse_gdf['SYMB_CLASS']=='F'].index).intersection(landuse_gdf[landuse_gdf['SUBCLASS2']=='5'].index)),'Crop'] = 'Sugar Beets'\n",
    "\n",
    "landuse_gdf.at[sorted(set(landuse_gdf[landuse_gdf['SYMB_CLASS']=='F'].index).intersection(landuse_gdf[landuse_gdf['SUBCLASS2']=='6'].index)),'Crop'] = 'Corn (Field & Sweet)'\n",
    "\n",
    "landuse_gdf.at[sorted(set(landuse_gdf[landuse_gdf['SYMB_CLASS']=='F'].index).intersection(landuse_gdf[landuse_gdf['SUBCLASS2']=='7'].index)),'Crop'] = 'Grain Sorghum'\n",
    "\n",
    "landuse_gdf.at[sorted(set(landuse_gdf[landuse_gdf['SYMB_CLASS']=='F'].index).intersection(landuse_gdf[landuse_gdf['SUBCLASS2']=='8'].index)),'Crop'] = 'Sudan'\n",
    "\n",
    "landuse_gdf.at[sorted(set(landuse_gdf[landuse_gdf['SYMB_CLASS']=='F'].index).intersection(landuse_gdf[landuse_gdf['SUBCLASS2']=='9'].index)),'Crop'] = 'Castor Beans'\n",
    "\n",
    "landuse_gdf.at[sorted(set(landuse_gdf[landuse_gdf['SYMB_CLASS']=='F'].index).intersection(landuse_gdf[landuse_gdf['SUBCLASS2']=='10'].index)),'Crop'] = 'Beans (dry)'\n",
    "\n",
    "landuse_gdf.at[sorted(set(landuse_gdf[landuse_gdf['SYMB_CLASS']=='F'].index).intersection(landuse_gdf[landuse_gdf['SUBCLASS2']=='11'].index)),'Crop'] = 'Misc Field'\n",
    "\n",
    "landuse_gdf.at[sorted(set(landuse_gdf[landuse_gdf['SYMB_CLASS']=='F'].index).intersection(landuse_gdf[landuse_gdf['SUBCLASS2']=='12'].index)),'Crop'] = 'Sunflowers'\n",
    "\n",
    "landuse_gdf.at[sorted(set(landuse_gdf[landuse_gdf['SYMB_CLASS']=='F'].index).intersection(landuse_gdf[landuse_gdf['SUBCLASS2']=='13'].index)),'Crop'] = 'Hybrid sorghum/sudan'\n",
    "\n",
    "landuse_gdf.at[sorted(set(landuse_gdf[landuse_gdf['SYMB_CLASS']=='F'].index).intersection(landuse_gdf[landuse_gdf['SUBCLASS2']=='14'].index)),'Crop'] = 'Millet'\n",
    "\n",
    "landuse_gdf.at[sorted(set(landuse_gdf[landuse_gdf['SYMB_CLASS']=='F'].index).intersection(landuse_gdf[landuse_gdf['SUBCLASS2']=='15'].index)),'Crop'] = 'Sugar Cane'\n",
    "\n",
    "landuse_gdf.at[sorted(set(landuse_gdf[landuse_gdf['SYMB_CLASS']=='F'].index).intersection(landuse_gdf[landuse_gdf['SUBCLASS2']=='16'].index)),'Crop'] = 'Corn, Sorghum, or Sudan (grouped for remote sensing only)'\n",
    "\n",
    "landuse_gdf.at[sorted(set(landuse_gdf[landuse_gdf['SYMB_CLASS']=='F'].index).intersection(landuse_gdf[landuse_gdf['SUBCLASS2']=='**'].index)),'Crop'] = 'Field Crop (not specified)'\n",
    "\n",
    "landuse_gdf.at[sorted(set(landuse_gdf[landuse_gdf['SYMB_CLASS']=='P'].index).intersection(landuse_gdf[landuse_gdf['SUBCLASS2']=='1'].index)),'Crop'] = 'Alfalfa & Alfalfa Mixtures'\n",
    "\n",
    "landuse_gdf.at[sorted(set(landuse_gdf[landuse_gdf['SYMB_CLASS']=='P'].index).intersection(landuse_gdf[landuse_gdf['SUBCLASS2']=='2'].index)),'Crop'] = 'Clover'\n",
    "\n",
    "landuse_gdf.at[sorted(set(landuse_gdf[landuse_gdf['SYMB_CLASS']=='P'].index).intersection(landuse_gdf[landuse_gdf['SUBCLASS2']=='3'].index)),'Crop'] = 'Mixed Pasture'\n",
    "\n",
    "landuse_gdf.at[sorted(set(landuse_gdf[landuse_gdf['SYMB_CLASS']=='P'].index).intersection(landuse_gdf[landuse_gdf['SUBCLASS2']=='4'].index)),'Crop'] = 'Native Pasture'\n",
    "\n",
    "landuse_gdf.at[sorted(set(landuse_gdf[landuse_gdf['SYMB_CLASS']=='P'].index).intersection(landuse_gdf[landuse_gdf['SUBCLASS2']=='5'].index)),'Crop'] = 'Induced High Water Table native Pasture'\n",
    "\n",
    "landuse_gdf.at[sorted(set(landuse_gdf[landuse_gdf['SYMB_CLASS']=='P'].index).intersection(landuse_gdf[landuse_gdf['SUBCLASS2']=='6'].index)),'Crop'] = 'Misc Grasses'\n",
    "\n",
    "landuse_gdf.at[sorted(set(landuse_gdf[landuse_gdf['SYMB_CLASS']=='P'].index).intersection(landuse_gdf[landuse_gdf['SUBCLASS2']=='7'].index)),'Crop'] = 'Turf Farms'\n",
    "\n",
    "landuse_gdf.at[sorted(set(landuse_gdf[landuse_gdf['SYMB_CLASS']=='P'].index).intersection(landuse_gdf[landuse_gdf['SUBCLASS2']=='8'].index)),'Crop'] = 'Bermuda Grass'\n",
    "\n",
    "landuse_gdf.at[sorted(set(landuse_gdf[landuse_gdf['SYMB_CLASS']=='P'].index).intersection(landuse_gdf[landuse_gdf['SUBCLASS2']=='9'].index)),'Crop'] = 'Rye Grass'\n",
    "\n",
    "landuse_gdf.at[sorted(set(landuse_gdf[landuse_gdf['SYMB_CLASS']=='P'].index).intersection(landuse_gdf[landuse_gdf['SUBCLASS2']=='10'].index)),'Crop'] = 'Klein Grass'\n",
    "\n",
    "landuse_gdf.at[sorted(set(landuse_gdf[landuse_gdf['SYMB_CLASS']=='P'].index).intersection(landuse_gdf[landuse_gdf['SUBCLASS2']=='**'].index)),'Crop'] = 'Pasture (not specified)'\n",
    "\n",
    "landuse_gdf.at[sorted(set(landuse_gdf[landuse_gdf['SYMB_CLASS']=='T'].index).intersection(landuse_gdf[landuse_gdf['SUBCLASS2']=='1'].index)),'Crop'] = 'Artichokes'\n",
    "\n",
    "landuse_gdf.at[sorted(set(landuse_gdf[landuse_gdf['SYMB_CLASS']=='T'].index).intersection(landuse_gdf[landuse_gdf['SUBCLASS2']=='2'].index)),'Crop'] = 'Asparagus'\n",
    "\n",
    "landuse_gdf.at[sorted(set(landuse_gdf[landuse_gdf['SYMB_CLASS']=='T'].index).intersection(landuse_gdf[landuse_gdf['SUBCLASS2']=='3'].index)),'Crop'] = 'Beans (green)'\n",
    "\n",
    "landuse_gdf.at[sorted(set(landuse_gdf[landuse_gdf['SYMB_CLASS']=='T'].index).intersection(landuse_gdf[landuse_gdf['SUBCLASS2']=='4'].index)),'Crop'] = 'Cole Crops'\n",
    "\n",
    "landuse_gdf.at[sorted(set(landuse_gdf[landuse_gdf['SYMB_CLASS']=='T'].index).intersection(landuse_gdf[landuse_gdf['SUBCLASS2']=='5'].index)),'Crop'] = 'Not Listed'\n",
    "\n",
    "landuse_gdf.at[sorted(set(landuse_gdf[landuse_gdf['SYMB_CLASS']=='T'].index).intersection(landuse_gdf[landuse_gdf['SUBCLASS2']=='6'].index)),'Crop'] = 'Carrots'\n",
    "\n",
    "landuse_gdf.at[sorted(set(landuse_gdf[landuse_gdf['SYMB_CLASS']=='T'].index).intersection(landuse_gdf[landuse_gdf['SUBCLASS2']=='7'].index)),'Crop'] = 'Celery'\n",
    "\n",
    "landuse_gdf.at[sorted(set(landuse_gdf[landuse_gdf['SYMB_CLASS']=='T'].index).intersection(landuse_gdf[landuse_gdf['SUBCLASS2']=='8'].index)),'Crop'] = 'Lettuce (all types)'\n",
    "\n",
    "landuse_gdf.at[sorted(set(landuse_gdf[landuse_gdf['SYMB_CLASS']=='T'].index).intersection(landuse_gdf[landuse_gdf['SUBCLASS2']=='9'].index)),'Crop'] = 'Melons, Squash, and Cucumbers (all types)'\n",
    "\n",
    "landuse_gdf.at[sorted(set(landuse_gdf[landuse_gdf['SYMB_CLASS']=='T'].index).intersection(landuse_gdf[landuse_gdf['SUBCLASS2']=='10'].index)),'Crop'] = 'Onions and Garlic'\n",
    "\n",
    "landuse_gdf.at[sorted(set(landuse_gdf[landuse_gdf['SYMB_CLASS']=='T'].index).intersection(landuse_gdf[landuse_gdf['SUBCLASS2']=='11'].index)),'Crop'] = 'Peas'\n",
    "\n",
    "landuse_gdf.at[sorted(set(landuse_gdf[landuse_gdf['SYMB_CLASS']=='T'].index).intersection(landuse_gdf[landuse_gdf['SUBCLASS2']=='12'].index)),'Crop'] = 'Potatoes'\n",
    "\n",
    "landuse_gdf.at[sorted(set(landuse_gdf[landuse_gdf['SYMB_CLASS']=='T'].index).intersection(landuse_gdf[landuse_gdf['SUBCLASS2']=='13'].index)),'Crop'] = 'Sweet Potatoes'\n",
    "\n",
    "landuse_gdf.at[sorted(set(landuse_gdf[landuse_gdf['SYMB_CLASS']=='T'].index).intersection(landuse_gdf[landuse_gdf['SUBCLASS2']=='14'].index)),'Crop'] = 'Spinach'\n",
    "\n",
    "landuse_gdf.at[sorted(set(landuse_gdf[landuse_gdf['SYMB_CLASS']=='T'].index).intersection(landuse_gdf[landuse_gdf['SUBCLASS2']=='15'].index)),'Crop'] = 'Tomatoes (Processing)'\n",
    "\n",
    "landuse_gdf.at[sorted(set(landuse_gdf[landuse_gdf['SYMB_CLASS']=='T'].index).intersection(landuse_gdf[landuse_gdf['SUBCLASS2']=='16'].index)),'Crop'] = 'Flowers, Nursery, and Christmas Tree Farms'\n",
    "\n",
    "landuse_gdf.at[sorted(set(landuse_gdf[landuse_gdf['SYMB_CLASS']=='T'].index).intersection(landuse_gdf[landuse_gdf['SUBCLASS2']=='17'].index)),'Crop'] = 'Mixed (4 or more)'\n",
    "\n",
    "landuse_gdf.at[sorted(set(landuse_gdf[landuse_gdf['SYMB_CLASS']=='T'].index).intersection(landuse_gdf[landuse_gdf['SUBCLASS2']=='18'].index)),'Crop'] = 'Misc Truck'\n",
    "\n",
    "landuse_gdf.at[sorted(set(landuse_gdf[landuse_gdf['SYMB_CLASS']=='T'].index).intersection(landuse_gdf[landuse_gdf['SUBCLASS2']=='19'].index)),'Crop'] = 'Bush Berries'\n",
    "\n",
    "landuse_gdf.at[sorted(set(landuse_gdf[landuse_gdf['SYMB_CLASS']=='T'].index).intersection(landuse_gdf[landuse_gdf['SUBCLASS2']=='20'].index)),'Crop'] = 'Strawberries'\n",
    "\n",
    "landuse_gdf.at[sorted(set(landuse_gdf[landuse_gdf['SYMB_CLASS']=='T'].index).intersection(landuse_gdf[landuse_gdf['SUBCLASS2']=='21'].index)),'Crop'] = 'Peppers (Chili, Bell, etc)'\n",
    "\n",
    "landuse_gdf.at[sorted(set(landuse_gdf[landuse_gdf['SYMB_CLASS']=='T'].index).intersection(landuse_gdf[landuse_gdf['SUBCLASS2']=='22'].index)),'Crop'] = 'Brocolli'\n",
    "\n",
    "landuse_gdf.at[sorted(set(landuse_gdf[landuse_gdf['SYMB_CLASS']=='T'].index).intersection(landuse_gdf[landuse_gdf['SUBCLASS2']=='23'].index)),'Crop'] = 'Cabbage'\n",
    "\n",
    "landuse_gdf.at[sorted(set(landuse_gdf[landuse_gdf['SYMB_CLASS']=='T'].index).intersection(landuse_gdf[landuse_gdf['SUBCLASS2']=='24'].index)),'Crop'] = 'Cauliflower'\n",
    "\n",
    "landuse_gdf.at[sorted(set(landuse_gdf[landuse_gdf['SYMB_CLASS']=='T'].index).intersection(landuse_gdf[landuse_gdf['SUBCLASS2']=='25'].index)),'Crop'] = 'Brussels Sprouts'\n",
    "\n",
    "landuse_gdf.at[sorted(set(landuse_gdf[landuse_gdf['SYMB_CLASS']=='T'].index).intersection(landuse_gdf[landuse_gdf['SUBCLASS2']=='26'].index)),'Crop'] = 'Tomatoes (market)'\n",
    "\n",
    "landuse_gdf.at[sorted(set(landuse_gdf[landuse_gdf['SYMB_CLASS']=='T'].index).intersection(landuse_gdf[landuse_gdf['SUBCLASS2']=='27'].index)),'Crop'] = 'Greenhouse'\n",
    "\n",
    "landuse_gdf.at[sorted(set(landuse_gdf[landuse_gdf['SYMB_CLASS']=='T'].index).intersection(landuse_gdf[landuse_gdf['SUBCLASS2']=='28'].index)),'Crop'] = 'Blueberries'\n",
    "\n",
    "landuse_gdf.at[sorted(set(landuse_gdf[landuse_gdf['SYMB_CLASS']=='T'].index).intersection(landuse_gdf[landuse_gdf['SUBCLASS2']=='29'].index)),'Crop'] = 'Asian Leafy Vegetables'\n",
    "\n",
    "landuse_gdf.at[sorted(set(landuse_gdf[landuse_gdf['SYMB_CLASS']=='T'].index).intersection(landuse_gdf[landuse_gdf['SUBCLASS2']=='30'].index)),'Crop'] = 'Lettuce or Leafy Greeens (grouped for remote sensing only)'\n",
    "\n",
    "landuse_gdf.at[sorted(set(landuse_gdf[landuse_gdf['SYMB_CLASS']=='T'].index).intersection(landuse_gdf[landuse_gdf['SUBCLASS2']=='31'].index)),'Crop'] = 'Potato or Sweet Potato (grouped for remote sensing only)'\n",
    "\n",
    "landuse_gdf.at[sorted(set(landuse_gdf[landuse_gdf['SYMB_CLASS']=='T'].index).intersection(landuse_gdf[landuse_gdf['SUBCLASS2']=='**'].index)),'Crop'] = 'Truck, Nursery, or Berry Crops (unspecified)'\n",
    "\n",
    "landuse_gdf.at[sorted(set(landuse_gdf[landuse_gdf['SYMB_CLASS']=='D'].index).intersection(landuse_gdf[landuse_gdf['SUBCLASS2']=='1'].index)),'Crop'] = 'Apples'\n",
    "\n",
    "landuse_gdf.at[sorted(set(landuse_gdf[landuse_gdf['SYMB_CLASS']=='D'].index).intersection(landuse_gdf[landuse_gdf['SUBCLASS2']=='2'].index)),'Crop'] = 'Apricots'\n",
    "\n",
    "landuse_gdf.at[sorted(set(landuse_gdf[landuse_gdf['SYMB_CLASS']=='D'].index).intersection(landuse_gdf[landuse_gdf['SUBCLASS2']=='3'].index)),'Crop'] = 'Cherries'\n",
    "\n",
    "landuse_gdf.at[sorted(set(landuse_gdf[landuse_gdf['SYMB_CLASS']=='D'].index).intersection(landuse_gdf[landuse_gdf['SUBCLASS2']=='5'].index)),'Crop'] = 'Peaches & Nectarines'\n",
    "\n",
    "landuse_gdf.at[sorted(set(landuse_gdf[landuse_gdf['SYMB_CLASS']=='D'].index).intersection(landuse_gdf[landuse_gdf['SUBCLASS2']=='6'].index)),'Crop'] = 'Pears'\n",
    "\n",
    "landuse_gdf.at[sorted(set(landuse_gdf[landuse_gdf['SYMB_CLASS']=='D'].index).intersection(landuse_gdf[landuse_gdf['SUBCLASS2']=='7'].index)),'Crop'] = 'Plums'\n",
    "\n",
    "landuse_gdf.at[sorted(set(landuse_gdf[landuse_gdf['SYMB_CLASS']=='D'].index).intersection(landuse_gdf[landuse_gdf['SUBCLASS2']=='8'].index)),'Crop'] = 'Prunes'\n",
    "\n",
    "landuse_gdf.at[sorted(set(landuse_gdf[landuse_gdf['SYMB_CLASS']=='D'].index).intersection(landuse_gdf[landuse_gdf['SUBCLASS2']=='9'].index)),'Crop'] = 'Figs'\n",
    "\n",
    "landuse_gdf.at[sorted(set(landuse_gdf[landuse_gdf['SYMB_CLASS']=='D'].index).intersection(landuse_gdf[landuse_gdf['SUBCLASS2']=='10'].index)),'Crop'] = 'Misc Deciduous'\n",
    "\n",
    "landuse_gdf.at[sorted(set(landuse_gdf[landuse_gdf['SYMB_CLASS']=='D'].index).intersection(landuse_gdf[landuse_gdf['SUBCLASS2']=='11'].index)),'Crop'] = 'Mixed Deciduous'\n",
    "\n",
    "landuse_gdf.at[sorted(set(landuse_gdf[landuse_gdf['SYMB_CLASS']=='D'].index).intersection(landuse_gdf[landuse_gdf['SUBCLASS2']=='12'].index)),'Crop'] = 'Almonds'\n",
    "\n",
    "landuse_gdf.at[sorted(set(landuse_gdf[landuse_gdf['SYMB_CLASS']=='D'].index).intersection(landuse_gdf[landuse_gdf['SUBCLASS2']=='13'].index)),'Crop'] = 'Walnuts'\n",
    "\n",
    "landuse_gdf.at[sorted(set(landuse_gdf[landuse_gdf['SYMB_CLASS']=='D'].index).intersection(landuse_gdf[landuse_gdf['SUBCLASS2']=='14'].index)),'Crop'] = 'Pistachios'\n",
    "\n",
    "landuse_gdf.at[sorted(set(landuse_gdf[landuse_gdf['SYMB_CLASS']=='D'].index).intersection(landuse_gdf[landuse_gdf['SUBCLASS2']=='15'].index)),'Crop'] = 'Pomegranates'\n",
    "\n",
    "landuse_gdf.at[sorted(set(landuse_gdf[landuse_gdf['SYMB_CLASS']=='D'].index).intersection(landuse_gdf[landuse_gdf['SUBCLASS2']=='16'].index)),'Crop'] = 'Plums, Prunes, or Apricots (grouped for remote sensing only)'\n",
    "\n",
    "landuse_gdf.at[sorted(set(landuse_gdf[landuse_gdf['SYMB_CLASS']=='D'].index).intersection(landuse_gdf[landuse_gdf['SUBCLASS2']=='**'].index)),'Crop'] = 'Deciduos Fruits and Nuts (unspecified)'\n",
    "\n",
    "landuse_gdf.at[sorted(set(landuse_gdf[landuse_gdf['SYMB_CLASS']=='C'].index).intersection(landuse_gdf[landuse_gdf['SUBCLASS2']=='1'].index)),'Crop'] = 'Grapefruit'\n",
    "\n",
    "landuse_gdf.at[sorted(set(landuse_gdf[landuse_gdf['SYMB_CLASS']=='C'].index).intersection(landuse_gdf[landuse_gdf['SUBCLASS2']=='2'].index)),'Crop'] = 'Lemons'\n",
    "\n",
    "landuse_gdf.at[sorted(set(landuse_gdf[landuse_gdf['SYMB_CLASS']=='C'].index).intersection(landuse_gdf[landuse_gdf['SUBCLASS2']=='3'].index)),'Crop'] = 'Oranges'\n",
    "\n",
    "landuse_gdf.at[sorted(set(landuse_gdf[landuse_gdf['SYMB_CLASS']=='C'].index).intersection(landuse_gdf[landuse_gdf['SUBCLASS2']=='4'].index)),'Crop'] = 'Dates'\n",
    "\n",
    "landuse_gdf.at[sorted(set(landuse_gdf[landuse_gdf['SYMB_CLASS']=='C'].index).intersection(landuse_gdf[landuse_gdf['SUBCLASS2']=='5'].index)),'Crop'] = 'Avocados'\n",
    "\n",
    "landuse_gdf.at[sorted(set(landuse_gdf[landuse_gdf['SYMB_CLASS']=='C'].index).intersection(landuse_gdf[landuse_gdf['SUBCLASS2']=='6'].index)),'Crop'] = 'Olives'\n",
    "\n",
    "landuse_gdf.at[sorted(set(landuse_gdf[landuse_gdf['SYMB_CLASS']=='C'].index).intersection(landuse_gdf[landuse_gdf['SUBCLASS2']=='7'].index)),'Crop'] = 'Misc Subtropical Fruit'\n",
    "\n",
    "landuse_gdf.at[sorted(set(landuse_gdf[landuse_gdf['SYMB_CLASS']=='C'].index).intersection(landuse_gdf[landuse_gdf['SUBCLASS2']=='8'].index)),'Crop'] = 'Kiwis'\n",
    "\n",
    "landuse_gdf.at[sorted(set(landuse_gdf[landuse_gdf['SYMB_CLASS']=='C'].index).intersection(landuse_gdf[landuse_gdf['SUBCLASS2']=='9'].index)),'Crop'] = 'Jojoba'\n",
    "\n",
    "landuse_gdf.at[sorted(set(landuse_gdf[landuse_gdf['SYMB_CLASS']=='C'].index).intersection(landuse_gdf[landuse_gdf['SUBCLASS2']=='10'].index)),'Crop'] = 'Eucalyptus'\n",
    "\n",
    "landuse_gdf.at[sorted(set(landuse_gdf[landuse_gdf['SYMB_CLASS']=='C'].index).intersection(landuse_gdf[landuse_gdf['SUBCLASS2']=='11'].index)),'Crop'] = 'Mixed Tropical Fruits'\n",
    "\n",
    "landuse_gdf.at[sorted(set(landuse_gdf[landuse_gdf['SYMB_CLASS']=='C'].index).intersection(landuse_gdf[landuse_gdf['SUBCLASS2']=='**'].index)),'Crop'] = 'Citrus & Tropical (unspecified)'\n",
    "\n",
    "landuse_gdf.at[sorted(set(landuse_gdf[landuse_gdf['SYMB_CLASS']=='V'].index).intersection(landuse_gdf[landuse_gdf['SUBCLASS2']=='1'].index)),'Crop'] = 'Table Grapes'\n",
    "\n",
    "landuse_gdf.at[sorted(set(landuse_gdf[landuse_gdf['SYMB_CLASS']=='V'].index).intersection(landuse_gdf[landuse_gdf['SUBCLASS2']=='2'].index)),'Crop'] = 'Wine Grapes'\n",
    "\n",
    "landuse_gdf.at[sorted(set(landuse_gdf[landuse_gdf['SYMB_CLASS']=='V'].index).intersection(landuse_gdf[landuse_gdf['SUBCLASS2']=='3'].index)),'Crop'] = 'Raisin Grapes'\n",
    "\n",
    "landuse_gdf.at[sorted(set(landuse_gdf[landuse_gdf['SYMB_CLASS']=='V'].index).intersection(landuse_gdf[landuse_gdf['SUBCLASS2']=='4'].index)),'Crop'] = 'Vineyards (unspecified)'\n",
    "\n",
    "landuse_gdf.at[sorted(set(landuse_gdf[landuse_gdf['SYMB_CLASS']=='YP'].index).intersection(landuse_gdf[landuse_gdf['SUBCLASS2']=='**'].index)),'Crop'] = 'Young Perennial'\n",
    "\n",
    "landuse_gdf.at[sorted(set(landuse_gdf[landuse_gdf['SYMB_CLASS']=='I'].index).intersection(landuse_gdf[landuse_gdf['SUBCLASS2']=='1'].index)),'Crop'] = 'Land not cropped the current or previous crop season'\n",
    "\n",
    "landuse_gdf.at[sorted(set(landuse_gdf[landuse_gdf['SYMB_CLASS']=='I'].index).intersection(landuse_gdf[landuse_gdf['SUBCLASS2']=='2'].index)),'Crop'] = 'New Lands being prepared for crop production'\n",
    "\n",
    "landuse_gdf.at[sorted(set(landuse_gdf[landuse_gdf['SYMB_CLASS']=='I'].index).intersection(landuse_gdf[landuse_gdf['SUBCLASS2']=='4'].index)),'Crop'] = 'Long Term, land consistently idle for 4 or more years'\n",
    "\n",
    "landuse_gdf.at[sorted(set(landuse_gdf[landuse_gdf['SYMB_CLASS']=='I'].index).intersection(landuse_gdf[landuse_gdf['SUBCLASS2']=='**'].index)),'Crop'] = 'Idle (not specified)'\n",
    "\n",
    "landuse_gdf.at[sorted(set(landuse_gdf[landuse_gdf['SYMB_CLASS']=='S'].index).intersection(landuse_gdf[landuse_gdf['SUBCLASS2']=='1'].index)),'Crop'] = 'Farmsteads (includes a farm residence)'\n",
    "\n",
    "landuse_gdf.at[sorted(set(landuse_gdf[landuse_gdf['SYMB_CLASS']=='S'].index).intersection(landuse_gdf[landuse_gdf['SUBCLASS2']=='2'].index)),'Crop'] = 'Livestock feed lot operations'\n",
    "\n",
    "landuse_gdf.at[sorted(set(landuse_gdf[landuse_gdf['SYMB_CLASS']=='S'].index).intersection(landuse_gdf[landuse_gdf['SUBCLASS2']=='3'].index)),'Crop'] = 'Dairies'\n",
    "\n",
    "landuse_gdf.at[sorted(set(landuse_gdf[landuse_gdf['SYMB_CLASS']=='S'].index).intersection(landuse_gdf[landuse_gdf['SUBCLASS2']=='4'].index)),'Crop'] = 'Poultry Farms'\n",
    "\n",
    "landuse_gdf.at[sorted(set(landuse_gdf[landuse_gdf['SYMB_CLASS']=='S'].index).intersection(landuse_gdf[landuse_gdf['SUBCLASS2']=='5'].index)),'Crop'] = 'Farmsteads (without a farm residence)'\n",
    "\n",
    "landuse_gdf.at[sorted(set(landuse_gdf[landuse_gdf['SYMB_CLASS']=='S'].index).intersection(landuse_gdf[landuse_gdf['SUBCLASS2']=='**'].index)),'Crop'] = 'Miscellaneous semi-agricultural (small roads, ditches, non-planted areas of cropped fields)'\n",
    "\n",
    "landuse_gdf.at[sorted(set(landuse_gdf[landuse_gdf['SYMB_CLASS']=='U'].index).intersection(landuse_gdf[landuse_gdf['SUBCLASS2']=='**'].index)),'Crop'] = 'Urban'\n",
    "\n",
    "\n",
    "\n",
    "\n",
    "\n",
    "\n",
    "\n",
    "\n",
    "\n",
    "\n",
    "\n",
    "\n",
    "\n",
    "\n"
   ]
  },
  {
   "cell_type": "code",
   "execution_count": null,
   "id": "44426e06",
   "metadata": {},
   "outputs": [],
   "source": [
    "landuse_gdf['SYMB_CLASS'].replace('^G','Grain & Hay',regex=True,inplace=True)\n",
    "landuse_gdf['SYMB_CLASS'].replace('^R','Rice',regex=True,inplace=True)\n",
    "landuse_gdf['SYMB_CLASS'].replace('^F','Field Crops',regex=True,inplace=True)\n",
    "landuse_gdf['SYMB_CLASS'].replace('^P','Pasture',regex=True,inplace=True)\n",
    "landuse_gdf['SYMB_CLASS'].replace('^T','Truck, Nursery, & Berry Crops',regex=True,inplace=True)\n",
    "landuse_gdf['SYMB_CLASS'].replace('^D','Deciduous Fruits & Nuts',regex=True,inplace=True)\n",
    "landuse_gdf['SYMB_CLASS'].replace('^C','Citrus & Subtropical',regex=True,inplace=True)\n",
    "landuse_gdf['SYMB_CLASS'].replace('^V','Vineyards',regex=True,inplace=True)\n",
    "landuse_gdf['SYMB_CLASS'].replace('^I','Idle',regex=True,inplace=True)\n",
    "landuse_gdf['SYMB_CLASS'].replace('^S','Semi-Agricultural & Incidental to Agriculture',regex=True,inplace=True)\n",
    "landuse_gdf['SYMB_CLASS'].replace('^U','Urban',regex=True,inplace=True)\n",
    "landuse_gdf['SYMB_CLASS'].replace('^X','Unclassified Fallow',regex=True,inplace=True)\n",
    "landuse_gdf['SYMB_CLASS'].replace('^YP','Young Perennial',regex=True,inplace=True)"
   ]
  },
  {
   "cell_type": "code",
   "execution_count": null,
   "id": "58689cca",
   "metadata": {},
   "outputs": [],
   "source": [
    "landtype_gdf = landuse_gdf.dissolve(by='Use_Index',as_index=False,sort=False)\n",
    "\n",
    "landtype_gdf"
   ]
  },
  {
   "cell_type": "code",
   "execution_count": null,
   "id": "12b1a0af",
   "metadata": {},
   "outputs": [],
   "source": [
    "landuse_gdf = landuse_gdf[['SYMB_CLASS','Use_Index','Crop','COUNTY','geometry']]\n",
    "\n",
    "landuse_gdf.head()"
   ]
  },
  {
   "cell_type": "code",
   "execution_count": null,
   "id": "b3a1a086",
   "metadata": {},
   "outputs": [],
   "source": [
    "colormap_landuse = cm.linear.Accent_08.scale(0,11).to_step(12)\n",
    "colormap_landuse.caption = 'Land Use'\n",
    "\n",
    "colormap_landuse"
   ]
  },
  {
   "cell_type": "code",
   "execution_count": null,
   "id": "c693656f",
   "metadata": {},
   "outputs": [],
   "source": [
    "colormap_wells = cm.linear.Set1_09.scale(0,75000)\n",
    "colormap_wells.caption ='Wells per County'\n",
    "\n",
    "colormap_wells"
   ]
  },
  {
   "cell_type": "code",
   "execution_count": null,
   "id": "653729d6",
   "metadata": {},
   "outputs": [],
   "source": [
    "#Create a b/w map of Southern California\n",
    "\n",
    "#california_canalmap = fl.Map(location=[34.1,-117.3],\n",
    "#                zoom_start=7,tiles=None)\n",
    "\n",
    "#county is set above \n",
    "\n",
    "california_canalmap = fl.Map(location=county_latlon[county],\n",
    "                zoom_start=8,tiles=None)\n",
    "\n",
    "fl.TileLayer('cartodbpositron',name='BackGround',control=False).add_to(california_canalmap)\n",
    "\n",
    "\n"
   ]
  },
  {
   "cell_type": "code",
   "execution_count": null,
   "id": "dc5553df",
   "metadata": {},
   "outputs": [],
   "source": [
    "county_latlon['Los Angeles']"
   ]
  },
  {
   "cell_type": "code",
   "execution_count": null,
   "id": "de980ce1",
   "metadata": {
    "scrolled": true
   },
   "outputs": [],
   "source": [
    "#Add well data\n",
    "#fl.GeoJson(ca_counties_gdf, name='Wells per County', control=True,\n",
    "\n",
    "\n",
    "#fl.GeoJson(socal_counties_gdf, name='Wells per County', control=True,show=False,\n",
    "#           style_function = lambda x: {\"weight\":1.5, \n",
    "#                                       'color':'grey',\n",
    "##                                       'fillColor':'transparent',\n",
    "#                            'fillColor':colormap_wells(x['properties']['Wells']), \n",
    "#                            'fillOpacity':0.75\n",
    "#               },\n",
    "           \n",
    "#               highlight_function = lambda x: {'fillColor': '#000000', \n",
    "#                                'color':'#000000', \n",
    "#                                'fillOpacity': 0.5, \n",
    "#                                'weight': 0.1\n",
    "#               },\n",
    "               \n",
    "#               tooltip=fl.GeoJsonTooltip(\n",
    "#                   fields=['NAME','Wells'],\n",
    "#                   aliases=['County:','Wells:'],\n",
    "#                   labels=True,\n",
    "#                   localize=True\n",
    "#               ),\n",
    "#               ).add_to(california_canalmap)\n"
   ]
  },
  {
   "cell_type": "code",
   "execution_count": null,
   "id": "030b6511",
   "metadata": {},
   "outputs": [],
   "source": [
    "# Add field data\n",
    "fl.GeoJson(fields_gdf, name='Fields', control=True,\n",
    "\n",
    "           style_function = lambda x: {\"weight\":1.5, \n",
    "                                       'color':'green',\n",
    "                                       'fillColor':'green', \n",
    "                                       'fillOpacity':0.25\n",
    "               },\n",
    "           \n",
    "               highlight_function = lambda x: {'fillColor': '#000000', \n",
    "                                'color':'#000000', \n",
    "                                'fillOpacity': 0.5, \n",
    "                                'weight': 0.1\n",
    "               },\n",
    "               \n",
    "               tooltip=fl.GeoJsonTooltip(\n",
    "                   fields=['NAME','District'],\n",
    "                   aliases=['Field:','District:'],\n",
    "                   labels=True,\n",
    "                   localize=True\n",
    "               ),\n",
    "               ).add_to(california_canalmap)\n"
   ]
  },
  {
   "cell_type": "code",
   "execution_count": null,
   "id": "be841609",
   "metadata": {},
   "outputs": [],
   "source": [
    "# Add facility data\n",
    "fl.GeoJson(facilities_gdf, name='Facilities', control=True,\n",
    "\n",
    "           style_function = lambda x: {\"weight\":1.5, \n",
    "                                       'color':'red',\n",
    "                                       'fillColor':'red',\n",
    "#                            'fillColor':colormap_counties(x['properties']['LABEL']), \n",
    "                            'fillOpacity':0.50\n",
    "               },\n",
    "           \n",
    "               highlight_function = lambda x: {'fillColor': '#000000', \n",
    "                                'color':'#000000', \n",
    "                                'fillOpacity': 0.75, \n",
    "                                'weight': 0.1\n",
    "               },\n",
    "               \n",
    "               tooltip=fl.GeoJsonTooltip(\n",
    "                   fields=['Facility','Operator','Production','District'],\n",
    "                   aliases=['Facility:','Operator:','Production:','District\"'],\n",
    "                   labels=True,\n",
    "                   localize=True\n",
    "               ),\n",
    "               ).add_to(california_canalmap)\n",
    "\n"
   ]
  },
  {
   "cell_type": "code",
   "execution_count": null,
   "id": "f29909d4",
   "metadata": {},
   "outputs": [],
   "source": []
  },
  {
   "cell_type": "code",
   "execution_count": null,
   "id": "8d497888",
   "metadata": {},
   "outputs": [],
   "source": [
    "landuse_gdf.head(10)"
   ]
  },
  {
   "cell_type": "code",
   "execution_count": null,
   "id": "3db11c75",
   "metadata": {},
   "outputs": [],
   "source": [
    "# Add landuse data\n",
    "#for COUNTY in so_cal_counties:\n",
    "\n",
    "#    print(COUNTY)\n",
    "    \n",
    "#fl.GeoJson(landuse_gdf, name='Land Type', control=True, show=False,\n",
    "fl.GeoJson(landtype_gdf, name='Land Type', control=True, show=False,\n",
    "           style_function = lambda x: {\"weight\":1.5, \n",
    "                                       'color':'black',\n",
    "#                                       'fillColor':'grey',\n",
    "                            'fillColor':colormap_landuse(x['properties']['Use_Index']), \n",
    "                            'fillOpacity':0.75\n",
    "               },\n",
    "           \n",
    "               highlight_function = lambda x: {'fillColor': '#000000', \n",
    "                                'color':'#000000', \n",
    "                                'fillOpacity': 0.75, \n",
    "                                'weight': 0.1\n",
    "               },\n",
    "               \n",
    "               tooltip=fl.GeoJsonTooltip(\n",
    "#                   fields=['SYMB_CLASS','Crop'],\n",
    "#                   aliases=['Land Type:','Crop:'],\n",
    "                   fields=['SYMB_CLASS'],\n",
    "                   aliases=['Land Type:'],\n",
    "                   labels=True,\n",
    "                   localize=True\n",
    "               ),\n",
    "               ).add_to(california_canalmap)"
   ]
  },
  {
   "cell_type": "code",
   "execution_count": null,
   "id": "34267d62",
   "metadata": {
    "scrolled": true
   },
   "outputs": [],
   "source": [
    "#add individual well data with FastMarkerCluster\n",
    "\n",
    "zoom_max = 12\n",
    "\n",
    "#well_points = FastMarkerCluster(wells_latlon,name='Wells',overlay=True,control=True,show=False,\n",
    "#                               disableClusteringAtZoom=zoom_max).add_to(california_canalmap)\n",
    "\n",
    "well_points = MarkerCluster(name='Oil & Gas Wells',overlay=True,control=True,show=False,\n",
    "                               disableClusteringAtZoom=zoom_max).add_to(california_canalmap)    \n",
    "    \n",
    "# Note that CircleMarkers are saved to the well_points layer, not the map\n",
    "wells_gdf.apply(lambda row:\n",
    "                        fl.CircleMarker(zindexoffset=500,\n",
    "                                  location=[row['geometry'].y, row['geometry'].x],\n",
    "                                  max_width=1200,min_width=300,\n",
    "                                  radius=5,\n",
    "                                  color='red',\n",
    "                                  fill=True,\n",
    "                                  fill_color='orange',\n",
    "                            \n",
    "               highlight_function = lambda x: {'fillColor': '#000000', \n",
    "                                'color':'#000000', \n",
    "                                'fillOpacity': 0.75, \n",
    "                                'weight': 0.1\n",
    "               },\n",
    "               \n",
    "               tooltip = \"Operator: %s<br>Well Type: %s<br>District: %s\" % (row['OperatorNa'],row['WellTypeLa'],row['District'])             \n",
    "\n",
    "                                 ).add_to(well_points), \n",
    "                         axis=1)"
   ]
  },
  {
   "cell_type": "code",
   "execution_count": null,
   "id": "2e0b37d9",
   "metadata": {},
   "outputs": [],
   "source": [
    "no_canals = ['Ventura']\n",
    "\n",
    "if county in no_canals:\n",
    "    print('No canals in ',county)\n",
    "else:\n",
    "    # Add canal data\n",
    "    fl.GeoJson(canals_gdf, name='Canals and Aqueducts', control=True,overlay=True,\n",
    "\n",
    "           style_function = lambda x: {\"weight\":5, \n",
    "                                       'color':'blue',\n",
    "                                       'fillColor':'blue',\n",
    "#                            'fillColor':colormap_counties(x['properties']['LABEL']), \n",
    "                            'fillOpacity':0.25\n",
    "               },\n",
    "           \n",
    "               highlight_function = lambda x: {'fillColor': '#000000', \n",
    "                                'color':'#000000', \n",
    "                                'fillOpacity': 0.75, \n",
    "                                'weight': 0.1\n",
    "               },\n",
    "               \n",
    "               tooltip=fl.GeoJsonTooltip(\n",
    "                   fields=['Name','Operator'],\n",
    "                   aliases=['Facility:','Operator:'],\n",
    "                   labels=True,\n",
    "                   localize=True\n",
    "               ),\n",
    "               \n",
    "               ).add_to(california_canalmap)\n",
    "\n"
   ]
  },
  {
   "cell_type": "code",
   "execution_count": null,
   "id": "3f4059eb",
   "metadata": {},
   "outputs": [],
   "source": [
    "# Add minimap\n",
    "MiniMap(tile_layer='stamenterrain',zoom_level_offset=-4).add_to(california_canalmap)\n",
    "\n",
    "#colormap_wells.add_to(california_canalmap)\n",
    "\n",
    "# Finally add control layer and display map\n",
    "fl.LayerControl(collapsed=False).add_to(california_canalmap)\n",
    "\n",
    "california_canalmap"
   ]
  },
  {
   "cell_type": "code",
   "execution_count": null,
   "id": "b0daf15a",
   "metadata": {},
   "outputs": [],
   "source": [
    "#save the map to an HTML file\n",
    "\n",
    "if os.path.exists('california_canalmap.html'):\n",
    "    os.remove('california_canalmap.html')\n",
    "    \n",
    "california_canalmap.save('california_canalmap.html')"
   ]
  },
  {
   "cell_type": "code",
   "execution_count": null,
   "id": "015c7d15",
   "metadata": {},
   "outputs": [],
   "source": []
  },
  {
   "cell_type": "code",
   "execution_count": null,
   "id": "8fb43557",
   "metadata": {},
   "outputs": [],
   "source": []
  }
 ],
 "metadata": {
  "kernelspec": {
   "display_name": "Python 3 (ipykernel)",
   "language": "python",
   "name": "python3"
  },
  "language_info": {
   "codemirror_mode": {
    "name": "ipython",
    "version": 3
   },
   "file_extension": ".py",
   "mimetype": "text/x-python",
   "name": "python",
   "nbconvert_exporter": "python",
   "pygments_lexer": "ipython3",
   "version": "3.9.7"
  }
 },
 "nbformat": 4,
 "nbformat_minor": 5
}
